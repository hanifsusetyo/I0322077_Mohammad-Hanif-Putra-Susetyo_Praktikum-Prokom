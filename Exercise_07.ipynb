{
 "cells": [
  {
   "cell_type": "code",
   "execution_count": 6,
   "metadata": {},
   "outputs": [
    {
     "data": {
      "text/plain": [
       "[[2, 2], [0, 0]]"
      ]
     },
     "execution_count": 6,
     "metadata": {},
     "output_type": "execute_result"
    }
   ],
   "source": [
    "#Buatlah sebuah fungsi untuk membuat matrix berdasarkan input dari user\n",
    "import numpy as np\n",
    "\n",
    "baris = int(input('Masukkan Jumlah Baris:\\t'))\n",
    "kolom = int(input('Masukkan Jumlah Kolom:\\t'))\n",
    "def create_matrix(baris,kolom):\n",
    "    matrix = [[0 for j in range(kolom)]for i in range(baris)]\n",
    "    for i in range(baris):\n",
    "        for j in range(kolom):\n",
    "            matrix[i][j] = int(input(f\"Masukkan angka untuk [{i+1}][{j+1}] : \"))\n",
    "        return matrix\n",
    "\n",
    "create_matrix(baris,kolom)"
   ]
  },
  {
   "cell_type": "code",
   "execution_count": 7,
   "metadata": {},
   "outputs": [
    {
     "name": "stdout",
     "output_type": "stream",
     "text": [
      "[[0, 0], [0, 0]]\n"
     ]
    },
    {
     "data": {
      "text/plain": [
       "0"
      ]
     },
     "execution_count": 7,
     "metadata": {},
     "output_type": "execute_result"
    }
   ],
   "source": [
    "#Buatlah sebuah fungsi untuk mencari determinan matrix berdasarkan input matrix dari user\n",
    "\n",
    "def determinant(matrix):\n",
    "    n = len(matrix)\n",
    "    if n == 1:\n",
    "        return matrix[0][0]\n",
    "    else:\n",
    "        det = 0\n",
    "        for j in range(n):\n",
    "            temp = [row[:j]+row[j+1:] for row in matrix[1:]]\n",
    "            det += (-1)**j * matrix[0][j] * determinant(temp)\n",
    "    return det\n",
    "print(matrix)\n",
    "determinant(matrix)"
   ]
  },
  {
   "cell_type": "code",
   "execution_count": 8,
   "metadata": {},
   "outputs": [
    {
     "name": "stdout",
     "output_type": "stream",
     "text": [
      "Matriks 1 = [[2, 2], [2, 2]]\n",
      "Matriks 2 = [[2, 2], [2, 2]]\n",
      "[8, 8]\n",
      "[8, 8]\n"
     ]
    }
   ],
   "source": [
    "#Buatlah fungsi untuk mengakalikan dua buah matrix berdasarkan input user menggunakan nested loop\n",
    "\n",
    "def buat_matriks1(baris1, kolom1):\n",
    "    global matriks1\n",
    "    matriks1 = [[0 for j in range(kolom1)] for i in range(baris1)]\n",
    "    for i in range(baris1):\n",
    "        for j in range(kolom1):\n",
    "            matriks1[i][j] = int(input(f\"Masukkan elemen untuk [{i+1}][{j+1}] : \"))\n",
    "    return matriks1\n",
    " \n",
    "baris1 = int(input('Masukkan Jumlah Baris M1:\\t'))\n",
    "kolom1 = int(input('Masukkan Jumlah Kolom M1:\\t'))\n",
    "buat_matriks1(baris1, kolom1)\n",
    "\n",
    "def buat_matriks2(baris2, kolom2):\n",
    "    global matriks2\n",
    "    matriks2 = [[0 for j in range(kolom2)] for i in range(baris2)]\n",
    "    for i in range(baris2):\n",
    "        for j in range(kolom2):\n",
    "            matriks2[i][j] = int(input(f\"Masukkan elemen untuk [{i+1}][{j+1}] : \"))\n",
    "    return matriks2\n",
    "\n",
    "\n",
    "baris2 = int(input('Masukkan Jumlah Baris M2:\\t'))\n",
    "kolom2 = int(input('Masukkan Jumlah Kolom M2:\\t'))\n",
    "buat_matriks2(baris2, kolom2)\n",
    "\n",
    "def perkalian_matriks(matriks1, matriks2):\n",
    "    m = len(matriks1)\n",
    "    n = len(matriks2[0])\n",
    "    p = len(matriks2)\n",
    "    \n",
    "    hasil = [[0 for j in range(n)] for i in range(m)]\n",
    "    for i in range(m):\n",
    "        for j in range(n):\n",
    "            for k in range(p):\n",
    "                hasil[i][j] += matriks1[i][k] * matriks2[k][j]\n",
    "    \n",
    "    for r in hasil:\n",
    "        print(r)\n",
    "\n",
    "print('Matriks 1 =', matriks1)\n",
    "print('Matriks 2 =', matriks2)\n",
    "perkalian_matriks(matriks1, matriks2)\n"
   ]
  }
 ],
 "metadata": {
  "kernelspec": {
   "display_name": "Python 3.10.11 64-bit (microsoft store)",
   "language": "python",
   "name": "python3"
  },
  "language_info": {
   "codemirror_mode": {
    "name": "ipython",
    "version": 3
   },
   "file_extension": ".py",
   "mimetype": "text/x-python",
   "name": "python",
   "nbconvert_exporter": "python",
   "pygments_lexer": "ipython3",
   "version": "3.10.11"
  },
  "orig_nbformat": 4,
  "vscode": {
   "interpreter": {
    "hash": "30c37c3a2c051bbba976eae1ee064de15fc361eda6ac51a7639a00dcadf10293"
   }
  }
 },
 "nbformat": 4,
 "nbformat_minor": 2
}
