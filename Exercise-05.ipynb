{
 "cells": [
  {
   "attachments": {},
   "cell_type": "markdown",
   "metadata": {},
   "source": [
    "1. Buatlah program untuk menghitung pangkat 2 dari angka 1 hingga 50!"
   ]
  },
  {
   "cell_type": "code",
   "execution_count": 1,
   "metadata": {},
   "outputs": [
    {
     "name": "stdout",
     "output_type": "stream",
     "text": [
      "1 Pangkat 2 :1\n",
      "2 Pangkat 2 :4\n",
      "3 Pangkat 2 :9\n",
      "4 Pangkat 2 :16\n",
      "5 Pangkat 2 :25\n",
      "6 Pangkat 2 :36\n",
      "7 Pangkat 2 :49\n",
      "8 Pangkat 2 :64\n",
      "9 Pangkat 2 :81\n",
      "10 Pangkat 2 :100\n",
      "11 Pangkat 2 :121\n",
      "12 Pangkat 2 :144\n",
      "13 Pangkat 2 :169\n",
      "14 Pangkat 2 :196\n",
      "15 Pangkat 2 :225\n",
      "16 Pangkat 2 :256\n",
      "17 Pangkat 2 :289\n",
      "18 Pangkat 2 :324\n",
      "19 Pangkat 2 :361\n",
      "20 Pangkat 2 :400\n",
      "21 Pangkat 2 :441\n",
      "22 Pangkat 2 :484\n",
      "23 Pangkat 2 :529\n",
      "24 Pangkat 2 :576\n",
      "25 Pangkat 2 :625\n",
      "26 Pangkat 2 :676\n",
      "27 Pangkat 2 :729\n",
      "28 Pangkat 2 :784\n",
      "29 Pangkat 2 :841\n",
      "30 Pangkat 2 :900\n",
      "31 Pangkat 2 :961\n",
      "32 Pangkat 2 :1024\n",
      "33 Pangkat 2 :1089\n",
      "34 Pangkat 2 :1156\n",
      "35 Pangkat 2 :1225\n",
      "36 Pangkat 2 :1296\n",
      "37 Pangkat 2 :1369\n",
      "38 Pangkat 2 :1444\n",
      "39 Pangkat 2 :1521\n",
      "40 Pangkat 2 :1600\n",
      "41 Pangkat 2 :1681\n",
      "42 Pangkat 2 :1764\n",
      "43 Pangkat 2 :1849\n",
      "44 Pangkat 2 :1936\n",
      "45 Pangkat 2 :2025\n",
      "46 Pangkat 2 :2116\n",
      "47 Pangkat 2 :2209\n",
      "48 Pangkat 2 :2304\n",
      "49 Pangkat 2 :2401\n",
      "50 Pangkat 2 :2500\n"
     ]
    }
   ],
   "source": [
    "# Kerjakan nomor 1 di sini\n",
    "\n",
    "for i in range (1,51):\n",
    "    hasil_perhitungan = i ** 2\n",
    "    print (f\"{i} Pangkat 2 :{hasil_perhitungan}\")"
   ]
  },
  {
   "attachments": {},
   "cell_type": "markdown",
   "metadata": {},
   "source": [
    "2. Buatlah sebuah list yang berisi daftar nama mahasiswa angkatan kalian minimal sejumlah 10 nama. Kemudian buat program pencarian menggunakan pengulangan, di mana apabila nama yang user inputkan sudah sesuai dengan isi list maka program akan berhenti dan menampilkan output \"Pencarian anda sudah berakhir\""
   ]
  },
  {
   "attachments": {},
   "cell_type": "markdown",
   "metadata": {},
   "source": [
    "catatan: perhatikan user dapat menginputkan menggunakan baik huruf kapital maupun tidak"
   ]
  },
  {
   "cell_type": "code",
   "execution_count": 7,
   "metadata": {},
   "outputs": [
    {
     "name": "stdout",
     "output_type": "stream",
     "text": [
      "wildan\n",
      "kaje\n",
      "piki\n",
      "dani\n",
      "rafi\n",
      "nopal\n",
      "akmal\n",
      "deo\n",
      "dero\n",
      "abid\n",
      "Pencarian anda sudah berakhir\n"
     ]
    }
   ],
   "source": [
    "# Kerjakan nomor 2 di sini\n",
    "\n",
    "nama_mahasiswa = [\"wildan\",\"kaje\",\"piki\",\"dani\",\"rafi\",\"nopal\",\"akmal\",\"deo\",\"dero\",\"abid\"]\n",
    "\n",
    "input_nama = input (\"Masukan Nama Mahasiswa:\")\n",
    "input_nama = input_nama.lower()\n",
    "\n",
    "for i in nama_mahasiswa:\n",
    "    if input_nama == i:\n",
    "        print (f\"{i}\")\n",
    "        print()\n",
    "        print(\"Pencarian anda sudah berakhir\")\n",
    "        break\n",
    "    print (i)\n",
    "\n"
   ]
  },
  {
   "attachments": {},
   "cell_type": "markdown",
   "metadata": {},
   "source": [
    "3. Disajikan list sebagai berikut "
   ]
  },
  {
   "cell_type": "code",
   "execution_count": null,
   "metadata": {},
   "outputs": [],
   "source": [
    "bulan = ['januari', 'februari', 'maret', 'april','mei','juni','juli','agustus','september','oktober','november','desember']\n",
    "kota = ['jakarta' , 'kuala lumpur', 'bangkok', 'seoul', 'canada','london','dubai','barcelona']"
   ]
  },
  {
   "attachments": {},
   "cell_type": "markdown",
   "metadata": {},
   "source": [
    "Robert adalah seorang penyanyi terkenal. Dia merencanakan konser world tour di tahun 2024 mendatang di berbagai negara. Dengan catatan pada bulan April dan Mei, Robert kembali ke indonesia untuk istirahat sejenak kemudian melanjutkan lagi konser. Berdasarkan kasus tersebut buatlah program pengulangannya!"
   ]
  },
  {
   "cell_type": "code",
   "execution_count": 1,
   "metadata": {},
   "outputs": [
    {
     "name": "stdout",
     "output_type": "stream",
     "text": [
      "Pada bulan januari, Robert akan konser di kota jakarta\n",
      "Pada bulan februari, Robert akan konser di kota kuala lumpur\n",
      "Pada bulan maret, Robert akan konser di kota bangkok\n",
      "Pada bulan april, Robert akan istirahat sejenak dari konser\n",
      "Pada bulan mei, Robert akan istirahat sejenak dari konser\n",
      "Pada bulan juni, Robert akan konser di kota seoul\n",
      "Pada bulan juli, Robert akan konser di kota canada\n",
      "Pada bulan agustus, Robert akan konser di kota london\n",
      "Pada bulan september, Robert akan konser di kota dubai\n",
      "Pada bulan oktober, Robert akan konser di kota barcelona\n",
      "Pada bulan november, Robert akan konser di kota jakarta\n",
      "Pada bulan desember, Robert akan konser di kota kuala lumpur\n"
     ]
    }
   ],
   "source": [
    "# kerjakan nomor 3 di sini\n",
    "\n",
    "bulan = ['januari', 'februari', 'maret', 'april','mei','juni','juli','agustus','september','oktober','november','desember']\n",
    "kota = ['jakarta' , 'kuala lumpur', 'bangkok', 'seoul', 'canada','london','dubai','barcelona']\n",
    "\n",
    "y = 0\n",
    "\n",
    "for x in bulan:\n",
    "    if x in [\"april\",\"mei\"]:\n",
    "        print (f\"bulan {x}, Robert akan break dulu, capek\")\n",
    "        continue\n",
    "    print (f\"Pada bulan {x}, Robert akan konser di kota\", kota [y])\n",
    "    y+= 1\n",
    "    if y == 8:\n",
    "        y = 0"
   ]
  }
 ],
 "metadata": {
  "kernelspec": {
   "display_name": "Python 3.10.11 64-bit (microsoft store)",
   "language": "python",
   "name": "python3"
  },
  "language_info": {
   "codemirror_mode": {
    "name": "ipython",
    "version": 3
   },
   "file_extension": ".py",
   "mimetype": "text/x-python",
   "name": "python",
   "nbconvert_exporter": "python",
   "pygments_lexer": "ipython3",
   "version": "3.10.11"
  },
  "orig_nbformat": 4,
  "vscode": {
   "interpreter": {
    "hash": "30c37c3a2c051bbba976eae1ee064de15fc361eda6ac51a7639a00dcadf10293"
   }
  }
 },
 "nbformat": 4,
 "nbformat_minor": 2
}
