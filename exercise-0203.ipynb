{
 "cells": [
  {
   "cell_type": "code",
   "execution_count": null,
   "metadata": {},
   "outputs": [],
   "source": [
    "print(input(\"Nama: \"))\n",
    "print(input(\"NIM: \"))\n",
    "print(input(\"Kelas: \"))"
   ]
  },
  {
   "attachments": {},
   "cell_type": "markdown",
   "metadata": {},
   "source": [
    "## 1."
   ]
  },
  {
   "attachments": {},
   "cell_type": "markdown",
   "metadata": {},
   "source": [
    "buatlah program sederhana untuk:\n",
    "* **A** mencari massa jika diketahui nilai energi potensial, percepatan gravitasi, dan ketinggian benda! beserta rumus nya!\n",
    "* **B** mencari gaya apung jika diketahui massa jenis, tinggi, panjang, dan lebar benda serta percepatan gravitasi dan contohnya! beserta rumus nya!\n",
    "* **C** Tulis program Python untuk menghitung luas dari segi lima sama sisi!\n",
    "\n",
    "> *note* : rumus, contoh, dan nilai dari tiap variabel ditentukan oleh kalian sendiri dan gunakan satuan baku (SI) untuk menghitung nilai dari tiap variabel"
   ]
  },
  {
   "cell_type": "code",
   "execution_count": 4,
   "metadata": {},
   "outputs": [
    {
     "name": "stdout",
     "output_type": "stream",
     "text": [
      "nilai energi potensialnya adalah 100.0 joule, ketinggian 20.0 meter, dan gravitasinya adalah 10.0 m/s^2\n",
      "massa benda yang didapat adalah 0.5 kg\n"
     ]
    }
   ],
   "source": [
    "#A program sederhana energi potensial\n",
    "\n",
    "energi_potensial = float(input(\"masukkan energi potensial =\"))\n",
    "ketinggian = float(input(\"masukkan ketinggian = \"))\n",
    "gravitasi = float(input(\"masukkan gravitasi =\"))\n",
    "massa = (energi_potensial)/(gravitasi*ketinggian)\n",
    "\n",
    "print(f\"nilai energi potensialnya adalah\", energi_potensial,\"joule, ketinggian\", ketinggian, \"meter, dan gravitasinya adalah\", gravitasi, \"m/s^2\")\n",
    "print(f\"massa benda yang didapat adalah\", massa, \"kg\")"
   ]
  },
  {
   "cell_type": "code",
   "execution_count": 6,
   "metadata": {},
   "outputs": [
    {
     "name": "stdout",
     "output_type": "stream",
     "text": [
      "Nilai massa jenis zat cair adalah 1000.0 kg/m^3, nilai Percepatan Gravitasi adalah 10.0 m/s^2\n",
      "Tinggi benda adalah 20.0 m, panjang benda adalah 30.0 m, Lebar benda adalah 20.0 m\n",
      "Nilai Volume Benda adalah 12000.0 m^3, dan nilai gaya apung yang didapat adalah 120000000.0 N\n"
     ]
    }
   ],
   "source": [
    "#B program menghitung gaya apung\n",
    "\n",
    "massa_jenis_cair=float(input(\"Masukkan massa jenis benda cair =\"))\n",
    "gravitasi=float(input(\"Masukkan percepaatan gravitasi =\"))\n",
    "tinggi=float(input(\"Masukkan tinggi benda =\"))\n",
    "panjang=float(input(\"Masukkan panjang benda =\"))\n",
    "lebar=float(input(\"Masukkan lebar benda =\"))\n",
    "volume=(panjang*lebar*tinggi)\n",
    "gaya_apung=(massa_jenis_cair*volume*gravitasi)\n",
    "\n",
    "print(f\"Nilai massa jenis zat cair adalah\",massa_jenis_cair,\"kg/m^3, nilai Percepatan Gravitasi adalah\",gravitasi,\"m/s^2\")\n",
    "print(f\"Tinggi benda adalah\",tinggi,\"m, panjang benda adalah\",panjang,\"m, Lebar benda adalah\",lebar,\"m\")\n",
    "\n",
    "print(f\"Nilai Volume Benda adalah\",volume,\"m^3, dan nilai gaya apung yang didapat adalah\",gaya_apung,\"N\")"
   ]
  },
  {
   "cell_type": "code",
   "execution_count": 16,
   "metadata": {},
   "outputs": [
    {
     "name": "stdout",
     "output_type": "stream",
     "text": [
      "panjang sisi dari segilima sama sisi adalah 10.0 m\n",
      "luas dari segilima sama sisi adalah 172.0477466906616 m^2\n"
     ]
    }
   ],
   "source": [
    "#C program menghitung luas segilima\n",
    "\n",
    "sisi=float(input(\"Masukkan Sisi Segilima =\"))\n",
    "luas=((5*sisi**2)/2.90617)\n",
    "\n",
    "print(f\"panjang sisi dari segilima sama sisi adalah {sisi} m\")\n",
    "print(f\"luas dari segilima sama sisi adalah {luas} m^2\")"
   ]
  },
  {
   "attachments": {},
   "cell_type": "markdown",
   "metadata": {},
   "source": [
    "## 2."
   ]
  },
  {
   "attachments": {},
   "cell_type": "markdown",
   "metadata": {},
   "source": [
    "Taman bermain ANCOL memiliki berbagai wahana, salah satunya adalah bianglala. Harga tiket yang dijual berbeda tergantung dengan kategori nya. Harga tiket bagi orang dewasa atau yang berumur lebih dari 17 tahun adalah Rp 110.000 , harga tiket untuk anak-anak usia 6-16 tahun adalah Rp. 75.000 , sedangkan untuk usia dibawahnya tidak dikenakan biaya. Pada wahana bianglala sedang ada \"Promo RAMADHAN\" sebesar 20% bagi pembelian tiket lebih dari 2 pcs.\n",
    "\n",
    "Keluarga Anya Forger ingin menaiki wahana bianglala tersebut, Anya (usia 18 tahun) pergi bersama ayah dan ibunya beserta dua adiknya, Harry (usia 8 tahun) dan Taylor (usia 4 tahun). \n",
    "\n",
    "> Buatlah program sederhana untuk menghitung harga total dari pembelian tiket  oleh keluarga Anya dan harga tiket setelah mendapatkan diskon"
   ]
  },
  {
   "cell_type": "code",
   "execution_count": 14,
   "metadata": {},
   "outputs": [
    {
     "name": "stdout",
     "output_type": "stream",
     "text": [
      "Harga tiket sebelum diskon adalah 405000, dan setelah diskon menjadi 324000.0\n"
     ]
    }
   ],
   "source": [
    "#program itung diskon tiket\n",
    "\n",
    "harga_17_tahun_up = 3*110000\n",
    "harga_6_hingga_16_tahun = 75000\n",
    "\n",
    "harga_total = harga_17_tahun_up + harga_6_hingga_16_tahun\n",
    "diskon = 20/100\n",
    "total_diskon = harga_total*diskon\n",
    "harga_final = harga_total - total_diskon\n",
    "\n",
    "print(f'Harga tiket sebelum diskon adalah {harga_total} rupiah, dan setelah diskon menjadi {harga_final} rupiah')"
   ]
  },
  {
   "attachments": {},
   "cell_type": "markdown",
   "metadata": {},
   "source": [
    "## 3. "
   ]
  },
  {
   "attachments": {},
   "cell_type": "markdown",
   "metadata": {},
   "source": [
    "diberikan list aslab sebagai berikut:\n",
    "```python\n",
    "list_aslab = [\n",
    "    {\"nama\": \"Berlian Safri Prakoso\", \"nim\": \"I0320017\", \"kontak\": \"0858XXXXXXXX\"},\n",
    "    {\"nama\": \"Halidya Siti Hanifah\", \"nim\": \"I0320044\", \"kontak\": \"0878XXXXXXXX\"},\n",
    "    {\"nama\": \"Nurki Putra Mahardika\", \"nim\": \"I0320076\", \"kontak\": \"0877XXXXXXXX\"},\n",
    "    {\"nama\": \"Aji Manarul Aziz\", \"nim\": \"I0320119\", \"kontak\": \"0812XXXXXXXX\"},\n",
    "    {\"nama\": \"Alica Ayu Fitriani\", \"nim\": \"I0320121\", \"kontak\": \"0896XXXXXXXX\"},\n",
    "    {\"nama\": \"Dendy Halim Kusuma\", \"nim\": \"I0320125\", \"kontak\": \"0822XXXXXXXX\"}\n",
    "]\n",
    "```\n",
    "* **A** Tuliskan kode untuk mengakses informasi tentang \"nama\" dari semua aslab mulai dari index 1 sampai 5\n",
    "* **B** Tambahkan informasi berikut pada data aslab dan tampilkan hasilnya:\n",
    "```python\n",
    "    surel = [\"berlian@student.uns.ac.id\",\n",
    "          \"halidya@student.uns.ac.id\",\n",
    "          \"nurki@student.uns.ac.id\",\n",
    "          \"manarul@student.uns.ac.id\",\n",
    "          \"alica@student.uns.ac.id\",\n",
    "          \"dendy@student.uns.ac.id\"]\n",
    "```\n",
    "* **C** Hapus nilai pada kunci \"kontak\" pada list aslab dan tampilkan hasilnya\n",
    "> *note: kalian hanya boleh menggunakan key-value pair yang disebutkan di dalam teks, tanpa menggunakan informasi tambahan yang diambil pada list yang ada*"
   ]
  }
 ],
 "metadata": {
  "kernelspec": {
   "display_name": "Python 3.10.10 64-bit (microsoft store)",
   "language": "python",
   "name": "python3"
  },
  "language_info": {
   "codemirror_mode": {
    "name": "ipython",
    "version": 3
   },
   "file_extension": ".py",
   "mimetype": "text/x-python",
   "name": "python",
   "nbconvert_exporter": "python",
   "pygments_lexer": "ipython3",
   "version": "3.10.10"
  },
  "orig_nbformat": 4,
  "vscode": {
   "interpreter": {
    "hash": "30c37c3a2c051bbba976eae1ee064de15fc361eda6ac51a7639a00dcadf10293"
   }
  }
 },
 "nbformat": 4,
 "nbformat_minor": 2
}
