{
 "cells": [
  {
   "cell_type": "code",
   "execution_count": 2,
   "metadata": {},
   "outputs": [
    {
     "name": "stdout",
     "output_type": "stream",
     "text": [
      "Mohammad Hanif Putra Susetyo\n",
      "I0322077\n",
      "C\n"
     ]
    }
   ],
   "source": [
    "print(input(\"Nama: \"))\n",
    "print(input(\"NIM: \"))\n",
    "print(input(\"Kelas: \"))"
   ]
  },
  {
   "attachments": {},
   "cell_type": "markdown",
   "metadata": {},
   "source": [
    "## 1."
   ]
  },
  {
   "attachments": {},
   "cell_type": "markdown",
   "metadata": {},
   "source": [
    "Buatlah program yang menampilkan tarif pajak yang harus dibayarkan oleh user dengan input yaitu nama user dan pendapatan dari user.<br>\n",
    "Dengan ketentuan sebagai berikut:\n",
    "* Jika pendapatan kurang dari atau sama dengan 10 juta, maka tarif pajak adalah 2,5%\n",
    "* Jika pendapatan kurang dari atau sama dengan 20 juta, maka tarif pajak adalah 5%\n",
    "* Jika pendapatan kurang dari atau sama dengan 50 juta, maka tarif pajak adalah 10%.\n",
    "* Jika pendapatan lebih dari 50 juta, maka tarif pajak adalah 12,5%.\n",
    "> *note: Kerjakan soal ini dengan percabangan*"
   ]
  },
  {
   "cell_type": "code",
   "execution_count": 3,
   "metadata": {},
   "outputs": [
    {
     "name": "stdout",
     "output_type": "stream",
     "text": [
      "Hai! hanip\n",
      "Jumlah Pendapatan Anda Adalah: 100000 rupiah, Tarif Pajak Dari Pendapatan Anda Adalah 2,5%\n",
      "Maka, Jumlah Pajak Yang Harus Anda Bayarkan: 2500.0 rupiah\n"
     ]
    }
   ],
   "source": [
    "# Kerjakan soal no 1 di sini\n",
    "\n",
    "\n",
    "nama = str (input(\"Masukan Nama Anda:\"))\n",
    "gaji = int(input(\"Masukan Pendapatan Anda (dalam rupiah):\"))\n",
    "\n",
    "if gaji <= 10000000:\n",
    "    pajak = gaji * (1 / 40)\n",
    "    print (\"Hai!\",nama)\n",
    "    print (\"Jumlah Pendapatan Anda Adalah:\",gaji ,\"rupiah, Tarif Pajak Dari Pendapatan Anda Adalah 2,5%\")\n",
    "    print (\"Maka, Jumlah Pajak Yang Harus Anda Bayarkan:\",pajak ,\"rupiah\")\n",
    "elif gaji <=  20000000:\n",
    "    pajak = gaji * (1 / 20)\n",
    "    print (\"Hai!\",nama)\n",
    "    print (\"Jumlah Pendapatan Anda Adalah:\",gaji ,\"rupiah, Tarif Pajak Dari Pendapatan Anda Adalah 5%\")\n",
    "    print (\"Maka, Jumlah Pajak Yang Harus Anda Bayarkan:\",pajak ,\"rupiah\")\n",
    "elif gaji <=  50000000:\n",
    "    pajak = gaji * (1 /10)\n",
    "    print (\"Hai!\",nama)\n",
    "    print (\"Jumlah Pendapatan Anda Adalah:\",gaji ,\"rupiah, Tarif Pajak Dari Pendapatan Anda Adalah 10%\")\n",
    "    print (\"Maka, Jumlah Pajak Yang Harus Anda Bayarkan:\",pajak ,\"rupiah\")\n",
    "elif gaji > 50000000:\n",
    "    pajak = gaji * (1 / 8)\n",
    "    print (\"Hai!\",nama)\n",
    "    print (\"Jumlah Pendapatan Anda Adalah:\",gaji ,\"rupiah, Tarif Pajak Dari Pendapatan Anda Adalah 12,5%\")\n",
    "    print (\"Maka, Jumlah Pajak Yang Harus Anda Bayarkan:\",pajak ,\"rupiah\")"
   ]
  },
  {
   "attachments": {},
   "cell_type": "markdown",
   "metadata": {},
   "source": [
    "## 2."
   ]
  },
  {
   "attachments": {},
   "cell_type": "markdown",
   "metadata": {},
   "source": [
    "Buatlah program yang menampilkan akan melakukan validasi apakah mahasiswa tersebut berasal dari TI UNS berdasarkan NIM yang diinput oleh user:\n",
    "<br>Dengan ketentuan sebagai berikut:\n",
    "* NIM mahasiswa TI harus dimulai dengan \"I03\" dengan total panjang 8 karakter (I0320078 adalah contoh NIM mahasiswa TI UNS)\n",
    "* Program akan menampilkan pesan \"NIM mahasiswa TI UNS\" jika NIM yang dimasukkan sesuai dengan format yang dijelaskan di atas, dan akan menampilkan pesan \"NIM Anda tidak valid\" jika tidak sesuai.\n",
    "> *note: Kerjakan soal ini dengan percabangan*"
   ]
  },
  {
   "cell_type": "code",
   "execution_count": 1,
   "metadata": {},
   "outputs": [
    {
     "name": "stdout",
     "output_type": "stream",
     "text": [
      "NIM mahasiswa TI UNS: I0322077\n"
     ]
    }
   ],
   "source": [
    "# Kerjakan soal no 2 di sini\n",
    "\n",
    "nim = input('Masukkan NIM anda disini')\n",
    "if nim.startswith('I03') and len(nim) == 8:\n",
    "    print(f'NIM mahasiswa TI UNS: {nim}')\n",
    "else:\n",
    "    print('NIM Anda tidak ditemukan')"
   ]
  }
 ],
 "metadata": {
  "kernelspec": {
   "display_name": "Python 3.10.10 64-bit (microsoft store)",
   "language": "python",
   "name": "python3"
  },
  "language_info": {
   "codemirror_mode": {
    "name": "ipython",
    "version": 3
   },
   "file_extension": ".py",
   "mimetype": "text/x-python",
   "name": "python",
   "nbconvert_exporter": "python",
   "pygments_lexer": "ipython3",
   "version": "3.10.10"
  },
  "orig_nbformat": 4,
  "vscode": {
   "interpreter": {
    "hash": "30c37c3a2c051bbba976eae1ee064de15fc361eda6ac51a7639a00dcadf10293"
   }
  }
 },
 "nbformat": 4,
 "nbformat_minor": 2
}
